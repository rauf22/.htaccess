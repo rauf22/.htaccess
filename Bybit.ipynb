{
  "nbformat": 4,
  "nbformat_minor": 0,
  "metadata": {
    "colab": {
      "name": "Bybit.ipynb",
      "provenance": [],
      "toc_visible": true,
      "authorship_tag": "ABX9TyMId7plflxFxRuFJEAH+nVr"
    },
    "kernelspec": {
      "name": "python3",
      "display_name": "Python 3"
    },
    "language_info": {
      "name": "python"
    }
  },
  "cells": [
    {
      "cell_type": "code",
      "source": [
        "pip install pybit"
      ],
      "metadata": {
        "colab": {
          "base_uri": "https://localhost:8080/"
        },
        "id": "PRYPGWQU801W",
        "outputId": "4688224b-3d01-4866-fbfe-0d8d38f867c2"
      },
      "execution_count": null,
      "outputs": [
        {
          "output_type": "stream",
          "name": "stdout",
          "text": [
            "Looking in indexes: https://pypi.org/simple, https://us-python.pkg.dev/colab-wheels/public/simple/\n",
            "Collecting pybit\n",
            "  Downloading pybit-2.3.1.tar.gz (49 kB)\n",
            "\u001b[K     |████████████████████████████████| 49 kB 2.8 MB/s \n",
            "\u001b[?25hRequirement already satisfied: requests in /usr/local/lib/python3.7/dist-packages (from pybit) (2.23.0)\n",
            "Collecting websocket-client\n",
            "  Downloading websocket_client-1.3.3-py3-none-any.whl (54 kB)\n",
            "\u001b[K     |████████████████████████████████| 54 kB 3.1 MB/s \n",
            "\u001b[?25hCollecting websockets\n",
            "  Downloading websockets-10.3-cp37-cp37m-manylinux_2_5_x86_64.manylinux1_x86_64.manylinux_2_12_x86_64.manylinux2010_x86_64.whl (112 kB)\n",
            "\u001b[K     |████████████████████████████████| 112 kB 9.1 MB/s \n",
            "\u001b[?25hRequirement already satisfied: idna<3,>=2.5 in /usr/local/lib/python3.7/dist-packages (from requests->pybit) (2.10)\n",
            "Requirement already satisfied: certifi>=2017.4.17 in /usr/local/lib/python3.7/dist-packages (from requests->pybit) (2022.6.15)\n",
            "Requirement already satisfied: urllib3!=1.25.0,!=1.25.1,<1.26,>=1.21.1 in /usr/local/lib/python3.7/dist-packages (from requests->pybit) (1.24.3)\n",
            "Requirement already satisfied: chardet<4,>=3.0.2 in /usr/local/lib/python3.7/dist-packages (from requests->pybit) (3.0.4)\n",
            "Building wheels for collected packages: pybit\n",
            "  Building wheel for pybit (setup.py) ... \u001b[?25l\u001b[?25hdone\n",
            "  Created wheel for pybit: filename=pybit-2.3.1-py2.py3-none-any.whl size=47628 sha256=eec4146924b49586e12fdf8479f50f84cd6f885cae02a2cb60fe4981398a3b31\n",
            "  Stored in directory: /root/.cache/pip/wheels/79/0c/e6/8b0ad58167b8f53a60e8d11133b8a0b046be56cf7b55c193d9\n",
            "Successfully built pybit\n",
            "Installing collected packages: websockets, websocket-client, pybit\n",
            "Successfully installed pybit-2.3.1 websocket-client-1.3.3 websockets-10.3\n"
          ]
        }
      ]
    },
    {
      "cell_type": "code",
      "source": [
        "pip install ta"
      ],
      "metadata": {
        "colab": {
          "base_uri": "https://localhost:8080/"
        },
        "id": "sJQZbJHk9Equ",
        "outputId": "7c4a8e3d-5bd5-480a-c13d-16497c94c6cc"
      },
      "execution_count": null,
      "outputs": [
        {
          "output_type": "stream",
          "name": "stdout",
          "text": [
            "Looking in indexes: https://pypi.org/simple, https://us-python.pkg.dev/colab-wheels/public/simple/\n",
            "Collecting ta\n",
            "  Downloading ta-0.10.1.tar.gz (24 kB)\n",
            "Requirement already satisfied: numpy in /usr/local/lib/python3.7/dist-packages (from ta) (1.21.6)\n",
            "Requirement already satisfied: pandas in /usr/local/lib/python3.7/dist-packages (from ta) (1.3.5)\n",
            "Requirement already satisfied: pytz>=2017.3 in /usr/local/lib/python3.7/dist-packages (from pandas->ta) (2022.1)\n",
            "Requirement already satisfied: python-dateutil>=2.7.3 in /usr/local/lib/python3.7/dist-packages (from pandas->ta) (2.8.2)\n",
            "Requirement already satisfied: six>=1.5 in /usr/local/lib/python3.7/dist-packages (from python-dateutil>=2.7.3->pandas->ta) (1.15.0)\n",
            "Building wheels for collected packages: ta\n",
            "  Building wheel for ta (setup.py) ... \u001b[?25l\u001b[?25hdone\n",
            "  Created wheel for ta: filename=ta-0.10.1-py3-none-any.whl size=28985 sha256=c9cd81df9f486a6dfb795a7141edb03f847169dac734d29fb5eb6475f1f93c58\n",
            "  Stored in directory: /root/.cache/pip/wheels/bc/2a/c2/a56e77d07edc16a1fa7fb012667e55cb0643cfa65996bddecc\n",
            "Successfully built ta\n",
            "Installing collected packages: ta\n",
            "Successfully installed ta-0.10.1\n"
          ]
        }
      ]
    },
    {
      "cell_type": "code",
      "source": [
        "from pybit import spot\n",
        "import pandas as pd\n",
        "import ta"
      ],
      "metadata": {
        "id": "BM9vLVPU9iZi"
      },
      "execution_count": null,
      "outputs": []
    },
    {
      "cell_type": "code",
      "source": [
        "api_key = '1111111'\n",
        "api_secret = '1111111111111111'"
      ],
      "metadata": {
        "id": "uoWxHnPY979b"
      },
      "execution_count": null,
      "outputs": []
    },
    {
      "cell_type": "code",
      "source": [
        "session = spot.HTTP(\n",
        "    endpoint=\"https://api.bybit.com\",\n",
        "    api_key=api_key,\n",
        "    api_secret=api_secret\n",
        ")"
      ],
      "metadata": {
        "id": "x-B1Uotb-nso"
      },
      "execution_count": null,
      "outputs": []
    },
    {
      "cell_type": "code",
      "source": [
        "def klines(symbol):\n",
        "  kline = session.query_kline(symbol=symbol, interval=\"1m\")\n",
        "  kline = kline['result']\n",
        "  df = pd.DataFrame(kline)\n",
        "  df = df.iloc[:,:6]\n",
        "  df.columns = ['Time', 'Open', 'High', 'Low', 'Close', 'Volume']\n",
        "  df = df.set_index('Time')\n",
        "  df.index = pd.to_datetime(df.index, unit='ms')\n",
        "  df = df.astype(float)\n",
        "  return df\n",
        "\n",
        "def strategy(symbol, qty, open_position = False):\n",
        "\n",
        "  while True:\n",
        "    df = klines(symbol)\n",
        "    if not open_position:\n",
        "      if ta.trend.macd_diff(df.Close).iloc[-1] > 0 \\\n",
        "      and ta.trend.macd_diff(df.Close).iloc[-2] < 0:\n",
        "        order = session.place_active_order(symbol=symbol, side=\"Buy\", type=\"MARKET\", qty=qty, timeInForce=\"GTC\")\n",
        "        print(order)\n",
        "        open_position = True\n",
        "        break\n",
        "\n",
        "    if open_position:\n",
        "      while True:\n",
        "        df = klines(symbol)\n",
        "        if ta.trend.macd_diff(df.Close).iloc[-1] < 0 \\\n",
        "        and ta.trend.macd_diff(df.Close).iloc[-2] > 0:\n",
        "          order = session.place_active_order(symbol=symbol, side=\"Sell\", type=\"MARKET\", qty=qty, timeInForce=\"GTC\")\n",
        "          print(order)\n",
        "          open_position = False\n",
        "          break"
      ],
      "metadata": {
        "id": "zl46vogw_SYs"
      },
      "execution_count": null,
      "outputs": []
    },
    {
      "cell_type": "code",
      "source": [
        "strategy('WLKNUSDT', 1)"
      ],
      "metadata": {
        "colab": {
          "base_uri": "https://localhost:8080/"
        },
        "id": "P8f6VTOEWia_",
        "outputId": "5433f462-5b61-4c77-cc23-e3d554761346"
      },
      "execution_count": null,
      "outputs": [
        {
          "output_type": "stream",
          "name": "stdout",
          "text": [
            "{'ret_code': 0, 'ret_msg': '', 'ext_code': None, 'ext_info': None, 'result': {'accountId': '6043046', 'symbol': 'WLKNUSDT', 'symbolName': 'WLKNUSDT', 'orderLinkId': '1658781423867560', 'orderId': '1208340595058193408', 'transactTime': '1658781423872', 'price': '0', 'origQty': '1', 'executedQty': '0', 'status': 'NEW', 'timeInForce': 'GTC', 'type': 'MARKET', 'side': 'BUY'}}\n"
          ]
        }
      ]
    }
  ]
}